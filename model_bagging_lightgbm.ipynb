{
 "cells": [
  {
   "cell_type": "code",
   "execution_count": 1,
   "metadata": {
    "ExecuteTime": {
     "end_time": "2019-02-17T03:18:36.904108Z",
     "start_time": "2019-02-17T03:18:33.466960Z"
    },
    "scrolled": true
   },
   "outputs": [
    {
     "name": "stderr",
     "output_type": "stream",
     "text": [
      "C:\\Users\\Administrator\\Anaconda3\\envs\\py3\\lib\\site-packages\\sklearn\\utils\\__init__.py:4: DeprecationWarning: Using or importing the ABCs from 'collections' instead of from 'collections.abc' is deprecated, and in 3.8 it will stop working\n",
      "  from collections import Sequence\n"
     ]
    }
   ],
   "source": [
    "import numpy as np \n",
    "import pandas as pd\n",
    "import lightgbm as lgb\n",
    "import random\n",
    "from sklearn import metrics\n",
    "import warnings\n",
    "warnings.filterwarnings('ignore')\n",
    "import os \n",
    "os.chdir('C:/Users/Administrator/Desktop/魔镜杯数据')\n",
    "import score_card as sc"
   ]
  },
  {
   "cell_type": "code",
   "execution_count": 2,
   "metadata": {
    "ExecuteTime": {
     "end_time": "2019-02-17T03:18:42.561213Z",
     "start_time": "2019-02-17T03:18:36.904108Z"
    },
    "scrolled": true
   },
   "outputs": [
    {
     "data": {
      "text/plain": [
       "(49701, 161)"
      ]
     },
     "execution_count": 2,
     "metadata": {},
     "output_type": "execute_result"
    }
   ],
   "source": [
    "# Master数据\n",
    "df1 = pd.read_csv('feature_select_data1.csv',encoding='gb18030')\n",
    "df1.shape"
   ]
  },
  {
   "cell_type": "code",
   "execution_count": 3,
   "metadata": {
    "ExecuteTime": {
     "end_time": "2019-02-17T03:18:54.458570Z",
     "start_time": "2019-02-17T03:18:42.566214Z"
    }
   },
   "outputs": [
    {
     "data": {
      "text/plain": [
       "(49701, 124)"
      ]
     },
     "execution_count": 3,
     "metadata": {},
     "output_type": "execute_result"
    }
   ],
   "source": [
    "# 排序特征数据\n",
    "rank_df = pd.read_csv('rank_feature.csv',encoding='gbk')\n",
    "rank_df.shape"
   ]
  },
  {
   "cell_type": "code",
   "execution_count": 4,
   "metadata": {
    "ExecuteTime": {
     "end_time": "2019-02-17T03:18:57.831734Z",
     "start_time": "2019-02-17T03:18:54.461570Z"
    }
   },
   "outputs": [
    {
     "data": {
      "text/plain": [
       "(49701, 51)"
      ]
     },
     "execution_count": 4,
     "metadata": {},
     "output_type": "execute_result"
    }
   ],
   "source": [
    "# periods衍生特征数据\n",
    "periods_df = pd.read_csv('periods_feature.csv',encoding='gbk')\n",
    "periods_df.shape"
   ]
  },
  {
   "cell_type": "code",
   "execution_count": 5,
   "metadata": {
    "ExecuteTime": {
     "end_time": "2019-02-17T03:18:57.837734Z",
     "start_time": "2019-02-17T03:18:57.833734Z"
    }
   },
   "outputs": [],
   "source": [
    "# 原生特征（不含排序特征和periods衍生特征）\n",
    "feature1 = list(df1.columns)\n",
    "# 排序特征和periods衍生特征\n",
    "feature2 = list(rank_df.columns)+list(periods_df.columns)"
   ]
  },
  {
   "cell_type": "code",
   "execution_count": 6,
   "metadata": {
    "ExecuteTime": {
     "end_time": "2019-02-17T03:18:57.963735Z",
     "start_time": "2019-02-17T03:18:57.841734Z"
    }
   },
   "outputs": [],
   "source": [
    "# 对feature2进行随机打乱顺序\n",
    "random.shuffle(feature2)"
   ]
  },
  {
   "cell_type": "code",
   "execution_count": 7,
   "metadata": {
    "ExecuteTime": {
     "end_time": "2019-02-17T03:18:58.129739Z",
     "start_time": "2019-02-17T03:18:57.964736Z"
    }
   },
   "outputs": [
    {
     "data": {
      "text/plain": [
       "(49701, 336)"
      ]
     },
     "execution_count": 7,
     "metadata": {},
     "output_type": "execute_result"
    }
   ],
   "source": [
    "# 合并数据集\n",
    "df = pd.concat([df1,rank_df,periods_df],axis=1)\n",
    "df.shape"
   ]
  },
  {
   "cell_type": "code",
   "execution_count": 8,
   "metadata": {
    "ExecuteTime": {
     "end_time": "2019-02-17T03:18:58.272747Z",
     "start_time": "2019-02-17T03:18:58.133739Z"
    }
   },
   "outputs": [],
   "source": [
    "# 保存用户id\n",
    "data_idx = df.Idx"
   ]
  },
  {
   "cell_type": "code",
   "execution_count": 9,
   "metadata": {
    "ExecuteTime": {
     "end_time": "2019-02-17T03:18:58.440757Z",
     "start_time": "2019-02-17T03:18:58.274747Z"
    }
   },
   "outputs": [],
   "source": [
    "# 定义lightgbm的bagging函数\n",
    "def bagging_lightgbm(feature_fraction,bagging_fraction,ramdom_seed,n_feature):\n",
    "    \n",
    "    select_fea = feature1+feature2[:n_feature]\n",
    "    \n",
    "    data = df.loc[:,select_fea]\n",
    "    train_x = data[data.sample_status=='train'].drop(['sample_status','target','Idx'],axis=1)\n",
    "    train_y = data[data.sample_status=='train']['target']\n",
    "    test_x = data[data.sample_status=='test'].drop(['sample_status','target','Idx'],axis=1)\n",
    "    test_y = data[data.sample_status=='test']['target']\n",
    "    \n",
    "    test_user_id = list(data[data.sample_status=='test']['Idx'])\n",
    "    \n",
    "    \n",
    "    dtrain = lgb.Dataset(train_x,train_y)\n",
    "    dtest = lgb.Dataset(test_x,test_y)\n",
    "    \n",
    "    params={\n",
    "        'boosting_type':'gbdt',\n",
    "        'metric':'auc',\n",
    "        'num_leaves':30,\n",
    "        'min_data_in_leaf':20,\n",
    "        'min_sum_hessian_in_leaf':0.001,\n",
    "        'bagging_fraction':bagging_fraction,\n",
    "        'feature_fraction':feature_fraction,\n",
    "        'learning_rate':0.005,\n",
    "    }\n",
    "    \n",
    "    #  寻找最佳的迭代次数\n",
    "    cv_result = lgb.cv(train_set=dtrain,\n",
    "                       early_stopping_rounds=10,\n",
    "                       num_boost_round=1000,\n",
    "                       nfold=5,\n",
    "                       metrics='auc',\n",
    "                       seed=0,\n",
    "                       params=params,\n",
    "                       stratified=True,\n",
    "                       shuffle=True)\n",
    "    max_auc = max(cv_result['auc-mean'])\n",
    "    num_round = len(cv_result['auc-mean'])\n",
    "    \n",
    "    model = lgb.train(train_set=dtrain,early_stopping_rounds=10,num_boost_round=num_round,valid_sets=dtest,params=params)\n",
    "    \n",
    "    model_pre = list(model.predict(test_x))\n",
    "    result_df = pd.DataFrame({'Idx':test_user_id,\n",
    "                              'score':model_pre})\n",
    "    return result_df\n",
    "\n",
    "# 对随机种子，bagging_fraction，feature_fraction及特征数量进行随机扰动\n",
    "random_seed = list(range(2018))\n",
    "bagging_fraction = [i/1000.0 for i in range(500,1000)]\n",
    "feature_fraction = [i/1000.0 for i in range(500,1000)]\n",
    "n_feature = list(range(50,174,2))\n",
    "\n",
    "random.shuffle(random_seed)\n",
    "random.shuffle(bagging_fraction)\n",
    "random.shuffle(feature_fraction)\n",
    "random.shuffle(n_feature)"
   ]
  },
  {
   "cell_type": "code",
   "execution_count": null,
   "metadata": {
    "ExecuteTime": {
     "end_time": "2019-02-17T03:18:59.134796Z",
     "start_time": "2019-02-17T03:18:33.508Z"
    }
   },
   "outputs": [],
   "source": [
    "import time \n",
    "a=  time.time()\n",
    "result_df_list=[]\n",
    "# 建立30个子模型，保存各个子模型输出的结果\n",
    "for i in range(30):\n",
    "    result_df = bagging_lightgbm(feature_fraction=feature_fraction[i],\n",
    "                                 n_feature=n_feature[i],\n",
    "                                 ramdom_seed=random_seed[i],\n",
    "                                 bagging_fraction=bagging_fraction[i])\n",
    "    result_df_list.append(result_df)\n",
    "# 对30个子模型的结果average，得到bagging模型的最终结果\n",
    "prep_list = [list(x['prep']) for x in result_df_list]\n",
    "bagging_prep= list(np.sum(score_list,axis=0)/30)\n",
    "b = time.time()\n",
    "print('运行时间:{}'.format(round(b-a,0)))"
   ]
  },
  {
   "cell_type": "code",
   "execution_count": 103,
   "metadata": {
    "ExecuteTime": {
     "end_time": "2019-02-16T14:41:12.488155Z",
     "start_time": "2019-02-16T14:41:12.313145Z"
    }
   },
   "outputs": [
    {
     "data": {
      "image/png": "[encoded data removed]",
      "text/plain": [
       "<Figure size 432x288 with 1 Axes>"
      ]
     },
     "metadata": {
      "needs_background": "light"
     },
     "output_type": "display_data"
    }
   ],
   "source": [
    "# bagging模型的AUC\n",
    "test_y = list(df[df.sample_status=='test']['target'])\n",
    "sc.plot_roc(y_label=test_y,y_pred=ss)"
   ]
  }
 ],
 "metadata": {
  "kernelspec": {
   "display_name": "Python 3",
   "language": "python",
   "name": "python3"
  },
  "language_info": {
   "codemirror_mode": {
    "name": "ipython",
    "version": 3
   },
   "file_extension": ".py",
   "mimetype": "text/x-python",
   "name": "python",
   "nbconvert_exporter": "python",
   "pygments_lexer": "ipython3",
   "version": "3.7.0"
  },
  "toc": {
   "base_numbering": 1,
   "nav_menu": {},
   "number_sections": true,
   "sideBar": true,
   "skip_h1_title": false,
   "title_cell": "Table of Contents",
   "title_sidebar": "Contents",
   "toc_cell": false,
   "toc_position": {},
   "toc_section_display": true,
   "toc_window_display": false
  }
 },
 "nbformat": 4,
 "nbformat_minor": 2
}
